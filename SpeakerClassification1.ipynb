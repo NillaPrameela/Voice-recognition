{
 "cells": [
  {
   "cell_type": "code",
   "execution_count": 1,
   "metadata": {
    "collapsed": false
   },
   "outputs": [
    {
     "name": "stdout",
     "output_type": "stream",
     "text": [
      "hdf5 not supported (please install/reinstall h5py)\n"
     ]
    }
   ],
   "source": [
    "import gzip\n",
    "import os\n",
    "import re\n",
    "import numpy as np\n",
    "import wave\n",
    "from six.moves import urllib\n",
    "import tflearn"
   ]
  },
  {
   "cell_type": "code",
   "execution_count": 2,
   "metadata": {
    "collapsed": false
   },
   "outputs": [],
   "source": [
    "os.chdir('/home/cc/Data')\n",
    "import speech_data as data\n",
    "pcm_path = 'data/spoken_numbers_pcm/'"
   ]
  },
  {
   "cell_type": "code",
   "execution_count": 3,
   "metadata": {
    "collapsed": false
   },
   "outputs": [
    {
     "name": "stdout",
     "output_type": "stream",
     "text": [
      "('speakers', ['Speaker9', 'Speaker4', 'Speaker2', 'Speaker3', 'Speaker1', 'Speaker5', 'Speaker7', 'Speaker0', 'Speaker8', 'Speaker6'])\n"
     ]
    }
   ],
   "source": [
    "speakers = []\n",
    "for f1 in os.listdir(pcm_path):\n",
    "    speakers.append(f1)\n",
    "number_classes=len(speakers)\n",
    "print('speakers',speakers)"
   ]
  },
  {
   "cell_type": "code",
   "execution_count": 4,
   "metadata": {
    "collapsed": false
   },
   "outputs": [
    {
     "name": "stdout",
     "output_type": "stream",
     "text": [
      "('speakers', ['Speaker9', 'Speaker4', 'Speaker2', 'Speaker3', 'Speaker1', 'Speaker5', 'Speaker7', 'Speaker0', 'Speaker8', 'Speaker6'])\n"
     ]
    }
   ],
   "source": [
    "# get the number of classes...aka len(speakers)\n",
    "number_classes = len(speakers)\n",
    "print('speakers', speakers)"
   ]
  },
  {
   "cell_type": "code",
   "execution_count": 5,
   "metadata": {
    "collapsed": false
   },
   "outputs": [],
   "source": [
    "\n",
    "WORD_WAVs=\"spoken_words\"\n",
    "batch=data.wave_batch_generator(source=WORD_WAVs,target=data.Target.speaker, speakers=speakers, batch_size=1000)\n",
    "X,Y=next(batch)"
   ]
  },
  {
   "cell_type": "code",
   "execution_count": 6,
   "metadata": {
    "collapsed": false
   },
   "outputs": [],
   "source": [
    "# Classification\n",
    "tflearn.init_graph(num_cores=8, gpu_memory_fraction=0.5)\n",
    "\n",
    "net = tflearn.input_data(shape=[None, 8192]) #Two wave chunks\n",
    "net = tflearn.fully_connected(net, 64)\n",
    "net = tflearn.dropout(net, 0.5)\n",
    "net = tflearn.fully_connected(net, number_classes, activation='softmax')\n",
    "net = tflearn.regression(net, optimizer='adam', loss='categorical_crossentropy')"
   ]
  },
  {
   "cell_type": "code",
   "execution_count": 7,
   "metadata": {
    "collapsed": false
   },
   "outputs": [
    {
     "name": "stdout",
     "output_type": "stream",
     "text": [
      "Training Step: 80000  | total loss: \u001b[1m\u001b[32m0.11438\u001b[0m\u001b[0m\n",
      "| Adam | epoch: 5000 | loss: 0.11438 - acc: 0.9746 -- iter: 1000/1000\n",
      "Training Step: 80000  | total loss: \u001b[1m\u001b[32m0.11438\u001b[0m\u001b[0m\n",
      "| Adam | epoch: 5000 | loss: 0.11438 - acc: 0.9746 -- iter: 1000/1000\n",
      "--\n"
     ]
    }
   ],
   "source": [
    "# training step \n",
    "model = tflearn.DNN(net)\n",
    "model.fit(X, Y, n_epoch=5000, show_metric=True, snapshot_step=100)"
   ]
  },
  {
   "cell_type": "code",
   "execution_count": 8,
   "metadata": {
    "collapsed": false
   },
   "outputs": [
    {
     "name": "stdout",
     "output_type": "stream",
     "text": [
      "predicted speaker for Speaker2_wav25.wav : result = Speaker2 \n"
     ]
    }
   ],
   "source": [
    "demo_file = \"Speaker2_wav25.wav\"\n",
    "demo=data.load_wav_file(demo_file)\n",
    "result=model.predict([demo])\n",
    "result=data.one_hot_to_item(result,speakers)\n",
    "print(\"predicted speaker for %s : result = %s \"%(demo_file,result))"
   ]
  },
  {
   "cell_type": "code",
   "execution_count": null,
   "metadata": {
    "collapsed": true
   },
   "outputs": [],
   "source": []
  }
 ],
 "metadata": {
  "kernelspec": {
   "display_name": "Python 2",
   "language": "python",
   "name": "python2"
  },
  "language_info": {
   "codemirror_mode": {
    "name": "ipython",
    "version": 2
   },
   "file_extension": ".py",
   "mimetype": "text/x-python",
   "name": "python",
   "nbconvert_exporter": "python",
   "pygments_lexer": "ipython2",
   "version": "2.7.6"
  }
 },
 "nbformat": 4,
 "nbformat_minor": 1
}
